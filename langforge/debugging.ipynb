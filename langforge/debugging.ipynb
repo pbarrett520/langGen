{
 "cells": [
  {
   "cell_type": "code",
   "execution_count": 2,
   "metadata": {},
   "outputs": [],
   "source": [
    "from forge import Forge"
   ]
  },
  {
   "cell_type": "code",
   "execution_count": 3,
   "metadata": {},
   "outputs": [],
   "source": [
    "forge = Forge()"
   ]
  },
  {
   "cell_type": "code",
   "execution_count": 5,
   "metadata": {},
   "outputs": [
    {
     "name": "stdout",
     "output_type": "stream",
     "text": [
      "Polynesian syllables: ['hu', 'ha', 'hu', 'mu', 'pu', 'e', 'i', 'si', 'su', 'ma', 'e', 'ni', 'nu', 'ŋu', 'wu', 'si', 'po', 'te', 'ho', 'ŋa']\n",
      "Germanic syllables: ['lu', 'gi', 'fæw', 'lef', 'wgew', 'ə', 'tɛw', 'ɛ', 'ʃʌŋ', 'ul', 'fʌ', 'θəbt', 'bwi', 'ton', 'res', 'kə', 'fʌ', 'bɪp', 'iw', 'θem']\n",
      "Romance syllables: ['ri', 'ʎu', 'ɲur', 'pu', 'bis', 'pa', 'ɲʎu', 'sro', 'tul', 'bpu', 'bɲi', 'ta', 'ner', 'po', 'fu', 'ɾer', 'tos', 'ra', 'te', 'ni']\n",
      "Japanese syllables: ['hi', 'ha', 'to', 'mo', 'pe', 'ku', 'du', 'ho', 'pi', 'ro', 'ke', 'gi', 'ki', 'mo', 'ta', 'ho', 'ho', 'ro', 'a', 'ma']\n",
      "Sinitic syllables: ['ti', 'ɻuŋ', 'o', 'ʃəŋ', 'ɻə', 'je', 'lok', 'bo', 'op', 'kət', 'su', 'i', 'jup', 'ga', 'sat', 'beŋ', 'pi', 'go', 'jot', 'lu']\n"
     ]
    }
   ],
   "source": [
    "\n",
    "languages = {}\n",
    "for template in [\"polynesian\", \"germanic\", \"romance\", \"japanese\", \"sinitic\"]:\n",
    "    languages[template] = forge.generate(template)\n",
    "    print(f\"{template.capitalize()} syllables: {languages[template].syllables}\")"
   ]
  },
  {
   "cell_type": "code",
   "execution_count": 22,
   "metadata": {},
   "outputs": [
    {
     "name": "stdout",
     "output_type": "stream",
     "text": [
      "\n",
      "--- Swadesh List ---\n",
      "I: θkəʃowʃ\n",
      "you: ndʌjʃæθtææ\n",
      "we: ʌsθo\n",
      "this: tə\n",
      "that: mŋæsbŋisæ\n",
      "who: tə\n",
      "what: ɔdbŋis\n",
      "where: ghʌʃdos\n",
      "when: gəŋŋæ\n",
      "how: jɛbfɛ\n",
      "not: hæ\n",
      "all: koɑŋ\n",
      "many: swɑmhgæl\n",
      "some: elnætf\n",
      "few: ʊgndʌj\n",
      "other: ɛmgəŋ\n",
      "one: bɔllæ\n",
      "two: iʃbŋisʌkhdɪ\n",
      "three: osiʃbŋis\n",
      "four: mɑkŋokɔt\n",
      "five: tɪmɑkŋoki\n",
      "head: sʌmepdew\n",
      "hair: lɪgjɑtedew\n",
      "eye: hæ\n",
      "nose: gʌdʃɪrɔp\n",
      "mouth: æp\n",
      "tooth: ʃe\n",
      "tongue: æjeʃʃəmhiθ\n",
      "fingernail: oθ\n",
      "foot: rɔhrɛrŋigʃʌʃ\n",
      "leg: sɛŋŋses\n",
      "knee: jeʃɔdswɑm\n",
      "hand: gʌl\n",
      "neck: tɪɔθkɔ\n",
      "breast: kɛəmʃɔŋ\n",
      "heart: ɪkre\n",
      "liver: ʊnɑm\n",
      "blood: lɑdew\n",
      "water: ʌʃe\n",
      "fire: kɔg\n",
      "sun: hdɪiʃ\n",
      "moon: ʊʃrʃɛ\n",
      "star: sɑwssiʃʃɛwti\n",
      "earth: ʌd\n",
      "stone: ʊnɑm\n",
      "tree: pʃəwdniŋ\n",
      "forest: ɔt\n",
      "mountain: ʃæθnɛr\n",
      "cloud: gɑjɑdɪθ\n",
      "rain: ɛf\n"
     ]
    }
   ],
   "source": [
    "print(\"\\n--- Swadesh List ---\")\n",
    "swadesh = forge.generate_swadesh(\"germanic\")\n",
    "for concept, word in swadesh.to_dict().items():\n",
    "    print(f\"{concept}: {word}\")"
   ]
  }
 ],
 "metadata": {
  "kernelspec": {
   "display_name": "Python 3",
   "language": "python",
   "name": "python3"
  },
  "language_info": {
   "codemirror_mode": {
    "name": "ipython",
    "version": 3
   },
   "file_extension": ".py",
   "mimetype": "text/x-python",
   "name": "python",
   "nbconvert_exporter": "python",
   "pygments_lexer": "ipython3",
   "version": "3.11.4"
  },
  "orig_nbformat": 4
 },
 "nbformat": 4,
 "nbformat_minor": 2
}
