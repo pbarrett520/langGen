{
 "cells": [
  {
   "cell_type": "code",
   "execution_count": 1,
   "metadata": {},
   "outputs": [],
   "source": [
    "import phones\n",
    "import pandas as pd"
   ]
  },
  {
   "cell_type": "code",
   "execution_count": 4,
   "metadata": {},
   "outputs": [],
   "source": [
    "vdc = pd.read_csv('voiced_consonants.csv')\n",
    "vdc.columns = ['place','bilabial','labiodental','dental','alveolar','postalveolar',\n",
    "               'retroflex','palatal','velar','uvular','pharyngal','glottal']"
   ]
  },
  {
   "cell_type": "code",
   "execution_count": 8,
   "metadata": {},
   "outputs": [
    {
     "data": {
      "text/plain": [
       "[nan, 'ɱ', nan, 'ⱱ', 'v', nan, 'ʋ', nan]"
      ]
     },
     "execution_count": 8,
     "metadata": {},
     "output_type": "execute_result"
    }
   ],
   "source": [
    "vdc.bilabial.to_list()\n",
    "vdc.labiodental.to_list()\n"
   ]
  },
  {
   "cell_type": "code",
   "execution_count": 16,
   "metadata": {},
   "outputs": [
    {
     "data": {
      "text/plain": [
       "['plosive', 'b', nan, nan, 'd', 'ɖ', 'ɟ', 'ɡ', 'ɢ', nan, nan, nan]"
      ]
     },
     "execution_count": 16,
     "metadata": {},
     "output_type": "execute_result"
    }
   ],
   "source": [
    "vdc.iloc[[0]].values.flatten().tolist()"
   ]
  },
  {
   "cell_type": "code",
   "execution_count": 4,
   "metadata": {},
   "outputs": [],
   "source": [
    "voiced_cons = phones.Consonants('voiced_consonants.csv')\n",
    "voiceless_cons = phones.Consonants('voiceless_consonants.csv')"
   ]
  },
  {
   "cell_type": "code",
   "execution_count": 5,
   "metadata": {},
   "outputs": [],
   "source": [
    "voiced_cons2 = phones.Consonants('voiced_consonants.csv')"
   ]
  },
  {
   "cell_type": "code",
   "execution_count": 7,
   "metadata": {},
   "outputs": [
    {
     "data": {
      "text/plain": [
       "['d', nan, nan, 'ɾ', 'z', 'ɮ', 'ɹ', 'l']"
      ]
     },
     "execution_count": 7,
     "metadata": {},
     "output_type": "execute_result"
    }
   ],
   "source": [
    "voiced_cons2.alveolar"
   ]
  },
  {
   "cell_type": "code",
   "execution_count": 2,
   "metadata": {},
   "outputs": [],
   "source": [
    "test1 = phones.Phones('voiced_consonants.csv','voiceless_consonants.csv','vowels.csv', \"[ptkbdgθð]?[aeiouʌæ]?[aeiouʌæ][ptkbdgθð]?[ptkbdgθð]?\")"
   ]
  },
  {
   "cell_type": "code",
   "execution_count": 3,
   "metadata": {},
   "outputs": [
    {
     "data": {
      "text/plain": [
       "['plosive',\n",
       " 'b',\n",
       " nan,\n",
       " nan,\n",
       " 'd',\n",
       " 'ɖ',\n",
       " 'ɟ',\n",
       " 'ɡ',\n",
       " 'ɢ',\n",
       " nan,\n",
       " nan,\n",
       " nan,\n",
       " 'plosive',\n",
       " 'p',\n",
       " nan,\n",
       " nan,\n",
       " 't',\n",
       " nan,\n",
       " 'ʈ',\n",
       " 'c',\n",
       " 'k',\n",
       " 'q',\n",
       " nan,\n",
       " 'ʔ',\n",
       " 'nasal',\n",
       " 'm',\n",
       " 'ɱ',\n",
       " 'n',\n",
       " nan,\n",
       " 'ɳ',\n",
       " nan,\n",
       " 'ɲ',\n",
       " 'ŋ',\n",
       " 'ɴ',\n",
       " nan,\n",
       " nan,\n",
       " 'nasal',\n",
       " nan,\n",
       " nan,\n",
       " nan,\n",
       " nan,\n",
       " nan,\n",
       " nan,\n",
       " nan,\n",
       " nan,\n",
       " nan,\n",
       " nan,\n",
       " nan,\n",
       " 'trill',\n",
       " 'ʙ',\n",
       " nan,\n",
       " 'r',\n",
       " nan,\n",
       " nan,\n",
       " nan,\n",
       " 'ʀ',\n",
       " nan,\n",
       " nan,\n",
       " nan,\n",
       " nan,\n",
       " 'trill',\n",
       " nan,\n",
       " nan,\n",
       " nan,\n",
       " nan,\n",
       " nan,\n",
       " nan,\n",
       " nan,\n",
       " nan,\n",
       " nan,\n",
       " nan,\n",
       " nan,\n",
       " 'tap',\n",
       " nan,\n",
       " 'ⱱ',\n",
       " nan,\n",
       " 'ɾ',\n",
       " nan,\n",
       " 'ɽ',\n",
       " nan,\n",
       " nan,\n",
       " nan,\n",
       " nan,\n",
       " nan,\n",
       " 'tap',\n",
       " nan,\n",
       " nan,\n",
       " nan,\n",
       " nan,\n",
       " nan,\n",
       " nan,\n",
       " nan,\n",
       " nan,\n",
       " nan,\n",
       " nan,\n",
       " nan,\n",
       " 'fricative',\n",
       " 'β',\n",
       " 'v',\n",
       " 'ð',\n",
       " 'z',\n",
       " 'ʒ',\n",
       " 'ʐ',\n",
       " 'ʝ',\n",
       " 'ɣ',\n",
       " 'ʁ',\n",
       " 'ʕ',\n",
       " 'ɦ',\n",
       " 'fricative',\n",
       " 'ɸ',\n",
       " 'f.θ',\n",
       " 's',\n",
       " 'ʃ',\n",
       " 'ʂ',\n",
       " 'ç',\n",
       " 'x',\n",
       " 'χ',\n",
       " 'ħ',\n",
       " 'h',\n",
       " nan,\n",
       " 'lateral_fricative',\n",
       " nan,\n",
       " nan,\n",
       " nan,\n",
       " 'ɮ',\n",
       " nan,\n",
       " nan,\n",
       " nan,\n",
       " nan,\n",
       " nan,\n",
       " nan,\n",
       " nan,\n",
       " 'lateral_fricative',\n",
       " nan,\n",
       " nan,\n",
       " 'ɬ',\n",
       " nan,\n",
       " nan,\n",
       " nan,\n",
       " nan,\n",
       " nan,\n",
       " nan,\n",
       " nan,\n",
       " nan,\n",
       " 'approximant',\n",
       " nan,\n",
       " 'ʋ',\n",
       " nan,\n",
       " 'ɹ',\n",
       " nan,\n",
       " 'ɻ',\n",
       " 'ç',\n",
       " 'ɰ',\n",
       " nan,\n",
       " nan,\n",
       " nan,\n",
       " 'approximant',\n",
       " nan,\n",
       " nan,\n",
       " nan,\n",
       " nan,\n",
       " nan,\n",
       " nan,\n",
       " nan,\n",
       " nan,\n",
       " nan,\n",
       " nan,\n",
       " nan,\n",
       " 'lateral_approximant',\n",
       " nan,\n",
       " nan,\n",
       " nan,\n",
       " 'l',\n",
       " nan,\n",
       " 'ɭ',\n",
       " 'ʎ',\n",
       " 'ʟ',\n",
       " nan,\n",
       " nan,\n",
       " nan,\n",
       " 'lateral_approximant',\n",
       " nan,\n",
       " nan,\n",
       " nan,\n",
       " nan,\n",
       " nan,\n",
       " nan,\n",
       " nan,\n",
       " nan,\n",
       " nan,\n",
       " nan,\n",
       " nan]"
      ]
     },
     "execution_count": 3,
     "metadata": {},
     "output_type": "execute_result"
    }
   ],
   "source": [
    "test1.all_consonants"
   ]
  },
  {
   "cell_type": "code",
   "execution_count": 6,
   "metadata": {},
   "outputs": [
    {
     "data": {
      "text/plain": [
       "['nasal',\n",
       " 'm',\n",
       " 'ɱ',\n",
       " 'n',\n",
       " nan,\n",
       " 'ɳ',\n",
       " nan,\n",
       " 'ɲ',\n",
       " 'ŋ',\n",
       " 'ɴ',\n",
       " nan,\n",
       " nan,\n",
       " 'nasal',\n",
       " nan,\n",
       " nan,\n",
       " nan,\n",
       " nan,\n",
       " nan,\n",
       " nan,\n",
       " nan,\n",
       " nan,\n",
       " nan,\n",
       " nan,\n",
       " nan]"
      ]
     },
     "execution_count": 6,
     "metadata": {},
     "output_type": "execute_result"
    }
   ],
   "source": [
    "test1.nasal"
   ]
  }
 ],
 "metadata": {
  "kernelspec": {
   "display_name": "Python 3",
   "language": "python",
   "name": "python3"
  },
  "language_info": {
   "codemirror_mode": {
    "name": "ipython",
    "version": 3
   },
   "file_extension": ".py",
   "mimetype": "text/x-python",
   "name": "python",
   "nbconvert_exporter": "python",
   "pygments_lexer": "ipython3",
   "version": "3.11.4"
  },
  "orig_nbformat": 4
 },
 "nbformat": 4,
 "nbformat_minor": 2
}
